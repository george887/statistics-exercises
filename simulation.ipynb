{
 "cells": [
  {
   "cell_type": "code",
   "execution_count": 6,
   "metadata": {},
   "outputs": [],
   "source": [
    "import numpy as np\n",
    "import pandas as pd\n",
    "import matplotlib.pyplot as plt\n",
    "import scipy.stats as stats"
   ]
  },
  {
   "cell_type": "code",
   "execution_count": 15,
   "metadata": {},
   "outputs": [
    {
     "data": {
      "text/plain": [
       "array([[3, 4],\n",
       "       [2, 2],\n",
       "       [5, 4],\n",
       "       ...,\n",
       "       [6, 2],\n",
       "       [1, 3],\n",
       "       [1, 5]])"
      ]
     },
     "execution_count": 15,
     "metadata": {},
     "output_type": "execute_result"
    }
   ],
   "source": [
    "# How likely is it that you roll doubles when rolling two dice?\n",
    "n_trials = n_rows = 1000\n",
    "n_dice = n_cols = 2\n",
    "rolls = np.random.choice([1,2,3,4,5,6], n_rows * n_cols).reshape(n_rows,n_cols)\n",
    "rolls"
   ]
  },
  {
   "cell_type": "code",
   "execution_count": 41,
   "metadata": {},
   "outputs": [],
   "source": [
    "sum_by_trial = rolls.sum(axis=1)\n",
    "sum_by_trial"
   ]
  },
  {
   "cell_type": "code",
   "execution_count": 47,
   "metadata": {},
   "outputs": [
    {
     "data": {
      "text/plain": [
       "0.17"
      ]
     },
     "execution_count": 47,
     "metadata": {},
     "output_type": "execute_result"
    }
   ],
   "source": [
    "doubles = [rolls[x][0] == rolls[x][1] for x in range(0,n_rows)]\n",
    "pd.Series(doubles).mean()"
   ]
  },
  {
   "cell_type": "code",
   "execution_count": 38,
   "metadata": {},
   "outputs": [
    {
     "data": {
      "text/plain": [
       "0.16666666666666666"
      ]
     },
     "execution_count": 38,
     "metadata": {},
     "output_type": "execute_result"
    }
   ],
   "source": [
    "# How likely is it that you roll doubles when rolling two dice? Using probability distributions\n",
    "die_dist = stats.randint(1,7).pmf([3,3])\n",
    "pd.Series(die_dist).mean()"
   ]
  },
  {
   "cell_type": "code",
   "execution_count": 20,
   "metadata": {},
   "outputs": [
    {
     "data": {
      "text/plain": [
       "array([[0, 1, 0, ..., 1, 1, 1],\n",
       "       [0, 1, 1, ..., 0, 0, 1],\n",
       "       [1, 1, 0, ..., 1, 0, 0],\n",
       "       ...,\n",
       "       [0, 1, 0, ..., 0, 0, 0],\n",
       "       [0, 0, 1, ..., 0, 0, 1],\n",
       "       [1, 1, 0, ..., 0, 0, 0]])"
      ]
     },
     "execution_count": 20,
     "metadata": {},
     "output_type": "execute_result"
    }
   ],
   "source": [
    "#If you flip 8 coins, what is the probability of getting exactly 3 heads? What is the probability of \n",
    "# getting more than 3 heads?\n",
    "n_trials = nrows = 10000\n",
    "n_coins = ncols = 8\n",
    "\n",
    "flips = np.random.choice([0,1], n_trials * n_coins).reshape(nrows, ncols)\n",
    "flips"
   ]
  },
  {
   "cell_type": "code",
   "execution_count": 21,
   "metadata": {},
   "outputs": [
    {
     "data": {
      "text/plain": [
       "array([4, 3, 5, ..., 3, 3, 3])"
      ]
     },
     "execution_count": 21,
     "metadata": {},
     "output_type": "execute_result"
    }
   ],
   "source": [
    "sum_by_trials = flips.sum(axis=1)\n",
    "sum_by_trials"
   ]
  },
  {
   "cell_type": "code",
   "execution_count": 10,
   "metadata": {},
   "outputs": [
    {
     "data": {
      "text/plain": [
       "array([ True, False, False, ..., False, False, False])"
      ]
     },
     "execution_count": 10,
     "metadata": {},
     "output_type": "execute_result"
    }
   ],
   "source": [
    "three_heads = sum_by_trials == 3\n",
    "three_heads"
   ]
  },
  {
   "cell_type": "code",
   "execution_count": 11,
   "metadata": {},
   "outputs": [
    {
     "data": {
      "text/plain": [
       "0.2191"
      ]
     },
     "execution_count": 11,
     "metadata": {},
     "output_type": "execute_result"
    }
   ],
   "source": [
    "exactly_3_heads = three_heads.astype(int).mean()\n",
    "exactly_3_heads"
   ]
  },
  {
   "cell_type": "code",
   "execution_count": 44,
   "metadata": {},
   "outputs": [
    {
     "data": {
      "text/plain": [
       "0.21875000000000014"
      ]
     },
     "execution_count": 44,
     "metadata": {},
     "output_type": "execute_result"
    }
   ],
   "source": [
    "#If you flip 8 coins, what is the probability of getting exactly 3 heads? What is the probability of \n",
    "# getting more than 3 heads?\n",
    "n = 8\n",
    "p = .5\n",
    "# Using probability distribution\n",
    "exactly3 = stats.binom(n,p).pmf([3,3])\n",
    "(pd.Series(exactly3)).mean()"
   ]
  },
  {
   "cell_type": "code",
   "execution_count": 12,
   "metadata": {},
   "outputs": [
    {
     "data": {
      "text/plain": [
       "array([False,  True,  True, ...,  True,  True,  True])"
      ]
     },
     "execution_count": 12,
     "metadata": {},
     "output_type": "execute_result"
    }
   ],
   "source": [
    "more_than_3 = sum_by_trials > 3\n",
    "more_than_3"
   ]
  },
  {
   "cell_type": "code",
   "execution_count": 13,
   "metadata": {},
   "outputs": [
    {
     "data": {
      "text/plain": [
       "0.6418"
      ]
     },
     "execution_count": 13,
     "metadata": {},
     "output_type": "execute_result"
    }
   ],
   "source": [
    "more_than_3_heads = more_than_3.astype(int).mean()\n",
    "more_than_3_heads"
   ]
  },
  {
   "cell_type": "code",
   "execution_count": 42,
   "metadata": {},
   "outputs": [
    {
     "data": {
      "text/plain": [
       "0.6367187499999999"
      ]
     },
     "execution_count": 42,
     "metadata": {},
     "output_type": "execute_result"
    }
   ],
   "source": [
    "# More than 3 heads\n",
    "stats.binom(n,p).sf(3)"
   ]
  },
  {
   "cell_type": "code",
   "execution_count": 22,
   "metadata": {},
   "outputs": [
    {
     "data": {
      "text/plain": [
       "array([['Tails', 'Tails', 'Heads', ..., 'Tails', 'Heads', 'Heads'],\n",
       "       ['Heads', 'Tails', 'Tails', ..., 'Tails', 'Tails', 'Tails'],\n",
       "       ['Heads', 'Tails', 'Tails', ..., 'Tails', 'Heads', 'Tails'],\n",
       "       ...,\n",
       "       ['Heads', 'Tails', 'Tails', ..., 'Heads', 'Tails', 'Tails'],\n",
       "       ['Heads', 'Heads', 'Tails', ..., 'Tails', 'Heads', 'Tails'],\n",
       "       ['Tails', 'Heads', 'Tails', ..., 'Heads', 'Tails', 'Heads']],\n",
       "      dtype='<U5')"
      ]
     },
     "execution_count": 22,
     "metadata": {},
     "output_type": "execute_result"
    }
   ],
   "source": [
    "flips = np.random.choice([\"Heads\",\"Tails\"], n_trials * n_coins).reshape(nrows, ncols)\n",
    "flips"
   ]
  },
  {
   "cell_type": "code",
   "execution_count": 23,
   "metadata": {},
   "outputs": [
    {
     "data": {
      "text/plain": [
       "0.2304"
      ]
     },
     "execution_count": 23,
     "metadata": {},
     "output_type": "execute_result"
    }
   ],
   "source": [
    "#Using list comprehension to answer\n",
    "head_bools = [((flips[x] == \"Heads\").sum() == 3) for x in range(0, nrows)]\n",
    "pd.Series(head_bools).mean()"
   ]
  },
  {
   "cell_type": "code",
   "execution_count": 76,
   "metadata": {},
   "outputs": [
    {
     "data": {
      "text/plain": [
       "array([['Webdev', 'DS'],\n",
       "       ['Webdev', 'DS'],\n",
       "       ['DS', 'Webdev'],\n",
       "       ...,\n",
       "       ['Webdev', 'Webdev'],\n",
       "       ['Webdev', 'Webdev'],\n",
       "       ['Webdev', 'Webdev']], dtype='<U6')"
      ]
     },
     "execution_count": 76,
     "metadata": {},
     "output_type": "execute_result"
    }
   ],
   "source": [
    "#3 There are approximitely 3 web development cohorts for every 1 data science cohort at Codeup. Assuming that\n",
    "# Codeup randomly selects an alumni to put on a billboard, what are the odds that the two billboards I drive\n",
    "# past both have data science students on them?\n",
    "\n",
    "n_trials = nrows = 10000\n",
    "#web_dev = 3\n",
    "#DS = 1\n",
    "billboards = ncols = 2\n",
    "probabilities = [.25,.75]\n",
    "\n",
    "on_bb = np.random.choice([\"DS\",\"Webdev\"], n_trials * ncols, p = probabilities).reshape(nrows, ncols)\n",
    "on_bb"
   ]
  },
  {
   "cell_type": "code",
   "execution_count": 77,
   "metadata": {},
   "outputs": [],
   "source": [
    "bb_df = pd.DataFrame(on_bb)"
   ]
  },
  {
   "cell_type": "code",
   "execution_count": 78,
   "metadata": {},
   "outputs": [
    {
     "data": {
      "text/plain": [
       "0       False\n",
       "1       False\n",
       "2       False\n",
       "3       False\n",
       "4       False\n",
       "        ...  \n",
       "9995    False\n",
       "9996     True\n",
       "9997    False\n",
       "9998    False\n",
       "9999    False\n",
       "Length: 10000, dtype: bool"
      ]
     },
     "execution_count": 78,
     "metadata": {},
     "output_type": "execute_result"
    }
   ],
   "source": [
    "bb_df.apply(lambda row: row[0] == row[1] == \"DS\", axis = 1)"
   ]
  },
  {
   "cell_type": "code",
   "execution_count": 79,
   "metadata": {},
   "outputs": [
    {
     "data": {
      "text/plain": [
       "0.0644"
      ]
     },
     "execution_count": 79,
     "metadata": {},
     "output_type": "execute_result"
    }
   ],
   "source": [
    "bb_df.apply(lambda row: row[0] == row[1] == \"DS\", axis = 1).mean()"
   ]
  },
  {
   "cell_type": "code",
   "execution_count": 46,
   "metadata": {},
   "outputs": [
    {
     "data": {
      "text/plain": [
       "array([0.0625, 0.0625])"
      ]
     },
     "execution_count": 46,
     "metadata": {},
     "output_type": "execute_result"
    }
   ],
   "source": [
    "#3 There are approximitely 3 web development cohorts for every 1 data science cohort at Codeup. Assuming that\n",
    "# Codeup randomly selects an alumni to put on a billboard, what are the odds that the two billboards I drive\n",
    "# past both have data science students on them?\n",
    "n = 2\n",
    "p = .25\n",
    "stats.binom(n,p).pmf([2,2])"
   ]
  },
  {
   "cell_type": "code",
   "execution_count": 83,
   "metadata": {},
   "outputs": [
    {
     "data": {
      "text/plain": [
       "array([[3.86269215, 4.29954659, 3.64614984, 1.0367463 , 1.66985668],\n",
       "       [1.3491307 , 2.9259077 , 4.83348357, 5.31611859, 3.60584932],\n",
       "       [3.65984372, 1.88607951, 2.98103935, 3.45740213, 4.83691321],\n",
       "       ...,\n",
       "       [1.07382237, 2.90156463, 2.11014655, 5.54754766, 2.69701236],\n",
       "       [1.93064396, 6.60555637, 3.72486223, 4.13695008, 4.30252096],\n",
       "       [1.18617494, 3.66360254, 4.05964428, 1.63996595, 5.72138201]])"
      ]
     },
     "execution_count": 83,
     "metadata": {},
     "output_type": "execute_result"
    }
   ],
   "source": [
    "#4 Codeup students buy, on average, 3 poptart packages (+- 1.5) a day from the snack vending machine. \n",
    "# If on monday the machine is restocked with 17 poptart packages, how likely is it that I will be able \n",
    "# to buy some poptarts on Friday afternoon?\n",
    "#normal(loc=0.0, scale=1.0, size=None)\n",
    "n_trials = nrow = 100_000\n",
    "n_days = ncol = 5\n",
    "loc = poptarts_bought = 3\n",
    "scale = std = +-1.5\n",
    "#normal(loc, scale, size=(nrow,ncol))\n",
    "poptarts = np.random.normal(3,1.5,(nrow,ncol))\n",
    "poptarts"
   ]
  },
  {
   "cell_type": "code",
   "execution_count": 84,
   "metadata": {},
   "outputs": [
    {
     "data": {
      "text/plain": [
       "0.72424"
      ]
     },
     "execution_count": 84,
     "metadata": {},
     "output_type": "execute_result"
    }
   ],
   "source": [
    "(poptarts.sum(axis=1) <17).mean()"
   ]
  },
  {
   "cell_type": "code",
   "execution_count": 29,
   "metadata": {},
   "outputs": [
    {
     "data": {
      "text/plain": [
       "array([179.6754008 , 168.83839013, 177.91594859, ..., 175.16631358,\n",
       "       178.82538838, 164.15337962])"
      ]
     },
     "execution_count": 29,
     "metadata": {},
     "output_type": "execute_result"
    }
   ],
   "source": [
    "#5 Compare Heights -- Men have an average height of 178 cm and standard deviation of 8cm.\n",
    "# Women have a mean of 170, sd = 6cm.\n",
    "# If a man and woman are chosen at random, P(woman taller than man)?\n",
    "\n",
    "size = n_trials = nrows = 10_000\n",
    "loc = avg_height = 178\n",
    "scale = std = 8\n",
    "#normal(loc=0.0, scale=1.0, size=None)\n",
    "men = np.random.normal(loc,scale,size)\n",
    "men"
   ]
  },
  {
   "cell_type": "code",
   "execution_count": 31,
   "metadata": {},
   "outputs": [
    {
     "data": {
      "text/plain": [
       "array([167.36498943, 164.85914162, 167.61926212, ..., 167.67732008,\n",
       "       169.99729068, 164.42181735])"
      ]
     },
     "execution_count": 31,
     "metadata": {},
     "output_type": "execute_result"
    }
   ],
   "source": [
    "size = n_trials = nrows = 10_000\n",
    "loc = avg_height = 170\n",
    "scale = std = 6\n",
    "women = np.random.normal(loc,scale,size)\n",
    "women"
   ]
  },
  {
   "cell_type": "code",
   "execution_count": 32,
   "metadata": {},
   "outputs": [
    {
     "data": {
      "text/plain": [
       "0.2114"
      ]
     },
     "execution_count": 32,
     "metadata": {},
     "output_type": "execute_result"
    }
   ],
   "source": [
    "(women > men).mean()"
   ]
  },
  {
   "cell_type": "markdown",
   "metadata": {},
   "source": [
    "# 6 When installing anaconda on a student's computer, there's a 1 in 250 chance that the download is corrupted and the installation fails. What are the odds that after having 50 students download anaconda, no one has an installation issue? 100 students?\n",
    "\n",
    "What is the probability that we observe an installation issue within the first 150 students that download anaconda?\n",
    "\n",
    "How likely is it that 450 students all download anaconda without an issue?"
   ]
  },
  {
   "cell_type": "code",
   "execution_count": 43,
   "metadata": {},
   "outputs": [],
   "source": [
    "probability = p = [.004, .996] # 1/250 = .004\n",
    "size = n_trials = nrows = 10_000\n",
    "nstudents = ncols = 50\n",
    "ncols2 = 100\n",
    "# pass or fail = [0,1]\n"
   ]
  },
  {
   "cell_type": "code",
   "execution_count": 40,
   "metadata": {},
   "outputs": [
    {
     "data": {
      "text/plain": [
       "array([[0, 0, 0, ..., 0, 0, 0],\n",
       "       [0, 0, 0, ..., 0, 0, 0],\n",
       "       [0, 0, 0, ..., 0, 0, 0],\n",
       "       ...,\n",
       "       [0, 0, 0, ..., 0, 0, 0],\n",
       "       [0, 0, 0, ..., 0, 0, 0],\n",
       "       [0, 0, 0, ..., 0, 0, 0]])"
      ]
     },
     "execution_count": 40,
     "metadata": {},
     "output_type": "execute_result"
    }
   ],
   "source": [
    "pass_fail = np.random.choice([0,1], n_trials * ncols, p = [.996, .004]).reshape(nrows, ncols)\n",
    "pass_fail"
   ]
  },
  {
   "cell_type": "code",
   "execution_count": 41,
   "metadata": {},
   "outputs": [
    {
     "data": {
      "text/plain": [
       "0.8135"
      ]
     },
     "execution_count": 41,
     "metadata": {},
     "output_type": "execute_result"
    }
   ],
   "source": [
    "# Creating a DF. Using the .apply with lambda with sum of tests = 0 or pass\n",
    "pd.DataFrame(pass_fail).apply(lambda row: sum(row) == 0, axis=1).mean()"
   ]
  },
  {
   "cell_type": "code",
   "execution_count": 44,
   "metadata": {},
   "outputs": [],
   "source": [
    "#Now this is if 100 students installed\n",
    "pass_fail = np.random.choice([0,1], n_trials * ncols2, p = [.996, .004]).reshape(nrows, ncols2)"
   ]
  },
  {
   "cell_type": "code",
   "execution_count": 45,
   "metadata": {},
   "outputs": [
    {
     "data": {
      "text/plain": [
       "0.6744"
      ]
     },
     "execution_count": 45,
     "metadata": {},
     "output_type": "execute_result"
    }
   ],
   "source": [
    "pd.DataFrame(pass_fail).apply(lambda row: sum(row) == 0, axis = 1).mean()"
   ]
  },
  {
   "cell_type": "code",
   "execution_count": 52,
   "metadata": {},
   "outputs": [],
   "source": [
    "# What is the probability that we observe an installation issue within the first 150 students that download\n",
    "# anaconda?\n",
    "probability = p = [.004, .996] # 1/250 = .004\n",
    "size = n_trials = nrows = 10_000\n",
    "nstudents = ncols = 150\n",
    "# pass or fail = [0,1]\n",
    "pass_fail = np.random.choice([\"pass\",\"fail\"], n_trials * ncols, p = [.996, .004]).reshape(nrows, ncols)\n"
   ]
  },
  {
   "cell_type": "code",
   "execution_count": 53,
   "metadata": {},
   "outputs": [
    {
     "data": {
      "text/plain": [
       "0.4453"
      ]
     },
     "execution_count": 53,
     "metadata": {},
     "output_type": "execute_result"
    }
   ],
   "source": [
    "#Solving with a pandas series with list comprehension\n",
    "pd.Series(['fail' in pass_fail[x] for x in range(0,nrows)]).mean()"
   ]
  },
  {
   "cell_type": "code",
   "execution_count": 59,
   "metadata": {},
   "outputs": [],
   "source": [
    "# How likely is it that 450 students all download anaconda without an issue?\n",
    "probability = p = [.004, .996] # 1/250 = .004\n",
    "size = n_trials = nrows = 10_000\n",
    "nstudents = ncols = 450\n",
    "# pass or fail = [0,1]\n",
    "pass_fail = np.random.choice([\"pass\",\"fail\"], n_trials * ncols, p = [.996, .004]).reshape(nrows, ncols)"
   ]
  },
  {
   "cell_type": "code",
   "execution_count": 61,
   "metadata": {},
   "outputs": [
    {
     "data": {
      "text/plain": [
       "0.1657"
      ]
     },
     "execution_count": 61,
     "metadata": {},
     "output_type": "execute_result"
    }
   ],
   "source": [
    "pd.Series([\"fail\" not in pass_fail[x] for x in range(0,nrows)]).mean()"
   ]
  },
  {
   "cell_type": "markdown",
   "metadata": {},
   "source": [
    "# 7 There's a 70% chance on any given day that there will be at least one food truck at Travis Park. However, you haven't seen a food truck there in 3 days. How unlikely is this?"
   ]
  },
  {
   "cell_type": "code",
   "execution_count": 69,
   "metadata": {},
   "outputs": [
    {
     "data": {
      "text/plain": [
       "array([[0, 1, 0],\n",
       "       [1, 0, 1],\n",
       "       [0, 1, 1],\n",
       "       ...,\n",
       "       [1, 1, 1],\n",
       "       [1, 1, 1],\n",
       "       [0, 1, 0]])"
      ]
     },
     "execution_count": 69,
     "metadata": {},
     "output_type": "execute_result"
    }
   ],
   "source": [
    "probability = p = [.3, .7]\n",
    "n_trials = nrows = 10_000\n",
    "days = ncols = 3\n",
    "#notruck = 0     truck = 1\n",
    "food_truck = np.random.choice([0,1], n_trials * ncols, p = [.3,.7]).reshape(nrows,ncols)\n",
    "food_truck"
   ]
  },
  {
   "cell_type": "code",
   "execution_count": 71,
   "metadata": {},
   "outputs": [
    {
     "data": {
      "text/plain": [
       "0.0252"
      ]
     },
     "execution_count": 71,
     "metadata": {},
     "output_type": "execute_result"
    }
   ],
   "source": [
    "df = pd.DataFrame(food_truck)\n",
    "df.apply(lambda row: sum(row) == 0, axis=1).mean()"
   ]
  },
  {
   "cell_type": "code",
   "execution_count": 72,
   "metadata": {},
   "outputs": [
    {
     "data": {
      "text/plain": [
       "0.0281"
      ]
     },
     "execution_count": 72,
     "metadata": {},
     "output_type": "execute_result"
    }
   ],
   "source": [
    "#how likely to not see a truck in 3 days\n",
    "trial = 10_000\n",
    "prob = [.7, .3]\n",
    "days_no = 3\n",
    "# 1 truck, 0 no_truck\n",
    "truck = np.random.choice([1, 0], size=(trial, days_no), p=prob)\n",
    "truck\n",
    "df = pd.DataFrame(truck)\n",
    "df[\"no_truck\"] = df.sum(axis=1) == 0\n",
    "df.no_truck.mean()"
   ]
  },
  {
   "cell_type": "code",
   "execution_count": 75,
   "metadata": {},
   "outputs": [],
   "source": [
    "#Another approach\n",
    "n_trials = nrows = 10_000\n",
    "probability = p = [.7,.3]\n",
    "ndays = ncols = 3\n",
    "#1 Truck, 0 No Truck\n",
    "food_truck = np.random.choice([1,0], size = (n_trials,ndays), p=p)\n",
    "food_truck\n",
    "df = pd.DataFrame(food_truck)\n",
    "df[\"no_truck\"] = df.sum(axis=1) == 0"
   ]
  },
  {
   "cell_type": "code",
   "execution_count": 76,
   "metadata": {},
   "outputs": [
    {
     "data": {
      "text/plain": [
       "0.0268"
      ]
     },
     "execution_count": 76,
     "metadata": {},
     "output_type": "execute_result"
    }
   ],
   "source": [
    "df.no_truck.mean()"
   ]
  },
  {
   "cell_type": "markdown",
   "metadata": {},
   "source": [
    "# 8. If 23 people are in the same room, what are the odds that two of them share a birthday? What if it's 20 people? 40?"
   ]
  },
  {
   "cell_type": "code",
   "execution_count": 87,
   "metadata": {},
   "outputs": [
    {
     "data": {
      "text/html": [
       "<div>\n",
       "<style scoped>\n",
       "    .dataframe tbody tr th:only-of-type {\n",
       "        vertical-align: middle;\n",
       "    }\n",
       "\n",
       "    .dataframe tbody tr th {\n",
       "        vertical-align: top;\n",
       "    }\n",
       "\n",
       "    .dataframe thead th {\n",
       "        text-align: right;\n",
       "    }\n",
       "</style>\n",
       "<table border=\"1\" class=\"dataframe\">\n",
       "  <thead>\n",
       "    <tr style=\"text-align: right;\">\n",
       "      <th></th>\n",
       "      <th>0</th>\n",
       "      <th>1</th>\n",
       "      <th>2</th>\n",
       "      <th>3</th>\n",
       "      <th>4</th>\n",
       "      <th>5</th>\n",
       "      <th>6</th>\n",
       "      <th>7</th>\n",
       "      <th>8</th>\n",
       "      <th>9</th>\n",
       "      <th>...</th>\n",
       "      <th>13</th>\n",
       "      <th>14</th>\n",
       "      <th>15</th>\n",
       "      <th>16</th>\n",
       "      <th>17</th>\n",
       "      <th>18</th>\n",
       "      <th>19</th>\n",
       "      <th>20</th>\n",
       "      <th>21</th>\n",
       "      <th>22</th>\n",
       "    </tr>\n",
       "  </thead>\n",
       "  <tbody>\n",
       "    <tr>\n",
       "      <th>0</th>\n",
       "      <td>229</td>\n",
       "      <td>135</td>\n",
       "      <td>155</td>\n",
       "      <td>361</td>\n",
       "      <td>94</td>\n",
       "      <td>283</td>\n",
       "      <td>276</td>\n",
       "      <td>209</td>\n",
       "      <td>52</td>\n",
       "      <td>82</td>\n",
       "      <td>...</td>\n",
       "      <td>195</td>\n",
       "      <td>266</td>\n",
       "      <td>235</td>\n",
       "      <td>240</td>\n",
       "      <td>199</td>\n",
       "      <td>199</td>\n",
       "      <td>126</td>\n",
       "      <td>187</td>\n",
       "      <td>137</td>\n",
       "      <td>154</td>\n",
       "    </tr>\n",
       "    <tr>\n",
       "      <th>1</th>\n",
       "      <td>131</td>\n",
       "      <td>318</td>\n",
       "      <td>140</td>\n",
       "      <td>274</td>\n",
       "      <td>105</td>\n",
       "      <td>167</td>\n",
       "      <td>289</td>\n",
       "      <td>306</td>\n",
       "      <td>257</td>\n",
       "      <td>362</td>\n",
       "      <td>...</td>\n",
       "      <td>359</td>\n",
       "      <td>162</td>\n",
       "      <td>207</td>\n",
       "      <td>205</td>\n",
       "      <td>278</td>\n",
       "      <td>136</td>\n",
       "      <td>210</td>\n",
       "      <td>349</td>\n",
       "      <td>178</td>\n",
       "      <td>170</td>\n",
       "    </tr>\n",
       "    <tr>\n",
       "      <th>2</th>\n",
       "      <td>76</td>\n",
       "      <td>277</td>\n",
       "      <td>322</td>\n",
       "      <td>7</td>\n",
       "      <td>174</td>\n",
       "      <td>48</td>\n",
       "      <td>99</td>\n",
       "      <td>226</td>\n",
       "      <td>358</td>\n",
       "      <td>6</td>\n",
       "      <td>...</td>\n",
       "      <td>47</td>\n",
       "      <td>174</td>\n",
       "      <td>4</td>\n",
       "      <td>10</td>\n",
       "      <td>351</td>\n",
       "      <td>53</td>\n",
       "      <td>171</td>\n",
       "      <td>317</td>\n",
       "      <td>149</td>\n",
       "      <td>64</td>\n",
       "    </tr>\n",
       "    <tr>\n",
       "      <th>3</th>\n",
       "      <td>94</td>\n",
       "      <td>209</td>\n",
       "      <td>133</td>\n",
       "      <td>154</td>\n",
       "      <td>115</td>\n",
       "      <td>342</td>\n",
       "      <td>283</td>\n",
       "      <td>313</td>\n",
       "      <td>197</td>\n",
       "      <td>132</td>\n",
       "      <td>...</td>\n",
       "      <td>348</td>\n",
       "      <td>221</td>\n",
       "      <td>299</td>\n",
       "      <td>342</td>\n",
       "      <td>338</td>\n",
       "      <td>359</td>\n",
       "      <td>56</td>\n",
       "      <td>183</td>\n",
       "      <td>181</td>\n",
       "      <td>188</td>\n",
       "    </tr>\n",
       "    <tr>\n",
       "      <th>4</th>\n",
       "      <td>16</td>\n",
       "      <td>81</td>\n",
       "      <td>211</td>\n",
       "      <td>32</td>\n",
       "      <td>160</td>\n",
       "      <td>101</td>\n",
       "      <td>140</td>\n",
       "      <td>53</td>\n",
       "      <td>265</td>\n",
       "      <td>291</td>\n",
       "      <td>...</td>\n",
       "      <td>235</td>\n",
       "      <td>164</td>\n",
       "      <td>74</td>\n",
       "      <td>246</td>\n",
       "      <td>4</td>\n",
       "      <td>295</td>\n",
       "      <td>99</td>\n",
       "      <td>170</td>\n",
       "      <td>270</td>\n",
       "      <td>208</td>\n",
       "    </tr>\n",
       "    <tr>\n",
       "      <th>...</th>\n",
       "      <td>...</td>\n",
       "      <td>...</td>\n",
       "      <td>...</td>\n",
       "      <td>...</td>\n",
       "      <td>...</td>\n",
       "      <td>...</td>\n",
       "      <td>...</td>\n",
       "      <td>...</td>\n",
       "      <td>...</td>\n",
       "      <td>...</td>\n",
       "      <td>...</td>\n",
       "      <td>...</td>\n",
       "      <td>...</td>\n",
       "      <td>...</td>\n",
       "      <td>...</td>\n",
       "      <td>...</td>\n",
       "      <td>...</td>\n",
       "      <td>...</td>\n",
       "      <td>...</td>\n",
       "      <td>...</td>\n",
       "      <td>...</td>\n",
       "    </tr>\n",
       "    <tr>\n",
       "      <th>99995</th>\n",
       "      <td>37</td>\n",
       "      <td>135</td>\n",
       "      <td>189</td>\n",
       "      <td>344</td>\n",
       "      <td>49</td>\n",
       "      <td>61</td>\n",
       "      <td>298</td>\n",
       "      <td>306</td>\n",
       "      <td>39</td>\n",
       "      <td>69</td>\n",
       "      <td>...</td>\n",
       "      <td>190</td>\n",
       "      <td>213</td>\n",
       "      <td>14</td>\n",
       "      <td>255</td>\n",
       "      <td>347</td>\n",
       "      <td>149</td>\n",
       "      <td>193</td>\n",
       "      <td>249</td>\n",
       "      <td>90</td>\n",
       "      <td>247</td>\n",
       "    </tr>\n",
       "    <tr>\n",
       "      <th>99996</th>\n",
       "      <td>50</td>\n",
       "      <td>353</td>\n",
       "      <td>77</td>\n",
       "      <td>341</td>\n",
       "      <td>31</td>\n",
       "      <td>209</td>\n",
       "      <td>100</td>\n",
       "      <td>344</td>\n",
       "      <td>286</td>\n",
       "      <td>38</td>\n",
       "      <td>...</td>\n",
       "      <td>120</td>\n",
       "      <td>80</td>\n",
       "      <td>40</td>\n",
       "      <td>220</td>\n",
       "      <td>278</td>\n",
       "      <td>58</td>\n",
       "      <td>19</td>\n",
       "      <td>335</td>\n",
       "      <td>37</td>\n",
       "      <td>290</td>\n",
       "    </tr>\n",
       "    <tr>\n",
       "      <th>99997</th>\n",
       "      <td>152</td>\n",
       "      <td>88</td>\n",
       "      <td>224</td>\n",
       "      <td>215</td>\n",
       "      <td>260</td>\n",
       "      <td>234</td>\n",
       "      <td>26</td>\n",
       "      <td>190</td>\n",
       "      <td>100</td>\n",
       "      <td>168</td>\n",
       "      <td>...</td>\n",
       "      <td>90</td>\n",
       "      <td>21</td>\n",
       "      <td>242</td>\n",
       "      <td>10</td>\n",
       "      <td>357</td>\n",
       "      <td>254</td>\n",
       "      <td>190</td>\n",
       "      <td>211</td>\n",
       "      <td>351</td>\n",
       "      <td>21</td>\n",
       "    </tr>\n",
       "    <tr>\n",
       "      <th>99998</th>\n",
       "      <td>49</td>\n",
       "      <td>145</td>\n",
       "      <td>80</td>\n",
       "      <td>185</td>\n",
       "      <td>39</td>\n",
       "      <td>327</td>\n",
       "      <td>198</td>\n",
       "      <td>306</td>\n",
       "      <td>248</td>\n",
       "      <td>45</td>\n",
       "      <td>...</td>\n",
       "      <td>193</td>\n",
       "      <td>321</td>\n",
       "      <td>181</td>\n",
       "      <td>252</td>\n",
       "      <td>240</td>\n",
       "      <td>140</td>\n",
       "      <td>255</td>\n",
       "      <td>139</td>\n",
       "      <td>331</td>\n",
       "      <td>262</td>\n",
       "    </tr>\n",
       "    <tr>\n",
       "      <th>99999</th>\n",
       "      <td>91</td>\n",
       "      <td>322</td>\n",
       "      <td>103</td>\n",
       "      <td>155</td>\n",
       "      <td>179</td>\n",
       "      <td>244</td>\n",
       "      <td>52</td>\n",
       "      <td>83</td>\n",
       "      <td>269</td>\n",
       "      <td>212</td>\n",
       "      <td>...</td>\n",
       "      <td>93</td>\n",
       "      <td>92</td>\n",
       "      <td>152</td>\n",
       "      <td>173</td>\n",
       "      <td>360</td>\n",
       "      <td>139</td>\n",
       "      <td>255</td>\n",
       "      <td>244</td>\n",
       "      <td>143</td>\n",
       "      <td>39</td>\n",
       "    </tr>\n",
       "  </tbody>\n",
       "</table>\n",
       "<p>100000 rows × 23 columns</p>\n",
       "</div>"
      ],
      "text/plain": [
       "        0    1    2    3    4    5    6    7    8    9   ...   13   14   15  \\\n",
       "0      229  135  155  361   94  283  276  209   52   82  ...  195  266  235   \n",
       "1      131  318  140  274  105  167  289  306  257  362  ...  359  162  207   \n",
       "2       76  277  322    7  174   48   99  226  358    6  ...   47  174    4   \n",
       "3       94  209  133  154  115  342  283  313  197  132  ...  348  221  299   \n",
       "4       16   81  211   32  160  101  140   53  265  291  ...  235  164   74   \n",
       "...    ...  ...  ...  ...  ...  ...  ...  ...  ...  ...  ...  ...  ...  ...   \n",
       "99995   37  135  189  344   49   61  298  306   39   69  ...  190  213   14   \n",
       "99996   50  353   77  341   31  209  100  344  286   38  ...  120   80   40   \n",
       "99997  152   88  224  215  260  234   26  190  100  168  ...   90   21  242   \n",
       "99998   49  145   80  185   39  327  198  306  248   45  ...  193  321  181   \n",
       "99999   91  322  103  155  179  244   52   83  269  212  ...   93   92  152   \n",
       "\n",
       "        16   17   18   19   20   21   22  \n",
       "0      240  199  199  126  187  137  154  \n",
       "1      205  278  136  210  349  178  170  \n",
       "2       10  351   53  171  317  149   64  \n",
       "3      342  338  359   56  183  181  188  \n",
       "4      246    4  295   99  170  270  208  \n",
       "...    ...  ...  ...  ...  ...  ...  ...  \n",
       "99995  255  347  149  193  249   90  247  \n",
       "99996  220  278   58   19  335   37  290  \n",
       "99997   10  357  254  190  211  351   21  \n",
       "99998  252  240  140  255  139  331  262  \n",
       "99999  173  360  139  255  244  143   39  \n",
       "\n",
       "[100000 rows x 23 columns]"
      ]
     },
     "execution_count": 87,
     "metadata": {},
     "output_type": "execute_result"
    }
   ],
   "source": [
    "n_trials = nrows = 100_000\n",
    "nbdays = ncols = 23\n",
    "\n",
    "birthdays = np.random.choice(range(365), size = (n_trials,nbdays))\n",
    "df = pd.DataFrame(birthdays)\n",
    "df"
   ]
  },
  {
   "cell_type": "code",
   "execution_count": 88,
   "metadata": {},
   "outputs": [
    {
     "data": {
      "text/html": [
       "<div>\n",
       "<style scoped>\n",
       "    .dataframe tbody tr th:only-of-type {\n",
       "        vertical-align: middle;\n",
       "    }\n",
       "\n",
       "    .dataframe tbody tr th {\n",
       "        vertical-align: top;\n",
       "    }\n",
       "\n",
       "    .dataframe thead th {\n",
       "        text-align: right;\n",
       "    }\n",
       "</style>\n",
       "<table border=\"1\" class=\"dataframe\">\n",
       "  <thead>\n",
       "    <tr style=\"text-align: right;\">\n",
       "      <th></th>\n",
       "      <th>0</th>\n",
       "      <th>1</th>\n",
       "      <th>2</th>\n",
       "      <th>3</th>\n",
       "      <th>4</th>\n",
       "      <th>5</th>\n",
       "      <th>6</th>\n",
       "      <th>7</th>\n",
       "      <th>8</th>\n",
       "      <th>9</th>\n",
       "      <th>...</th>\n",
       "      <th>14</th>\n",
       "      <th>15</th>\n",
       "      <th>16</th>\n",
       "      <th>17</th>\n",
       "      <th>18</th>\n",
       "      <th>19</th>\n",
       "      <th>20</th>\n",
       "      <th>21</th>\n",
       "      <th>22</th>\n",
       "      <th>n_unique</th>\n",
       "    </tr>\n",
       "  </thead>\n",
       "  <tbody>\n",
       "    <tr>\n",
       "      <th>0</th>\n",
       "      <td>229</td>\n",
       "      <td>135</td>\n",
       "      <td>155</td>\n",
       "      <td>361</td>\n",
       "      <td>94</td>\n",
       "      <td>283</td>\n",
       "      <td>276</td>\n",
       "      <td>209</td>\n",
       "      <td>52</td>\n",
       "      <td>82</td>\n",
       "      <td>...</td>\n",
       "      <td>266</td>\n",
       "      <td>235</td>\n",
       "      <td>240</td>\n",
       "      <td>199</td>\n",
       "      <td>199</td>\n",
       "      <td>126</td>\n",
       "      <td>187</td>\n",
       "      <td>137</td>\n",
       "      <td>154</td>\n",
       "      <td>22</td>\n",
       "    </tr>\n",
       "    <tr>\n",
       "      <th>1</th>\n",
       "      <td>131</td>\n",
       "      <td>318</td>\n",
       "      <td>140</td>\n",
       "      <td>274</td>\n",
       "      <td>105</td>\n",
       "      <td>167</td>\n",
       "      <td>289</td>\n",
       "      <td>306</td>\n",
       "      <td>257</td>\n",
       "      <td>362</td>\n",
       "      <td>...</td>\n",
       "      <td>162</td>\n",
       "      <td>207</td>\n",
       "      <td>205</td>\n",
       "      <td>278</td>\n",
       "      <td>136</td>\n",
       "      <td>210</td>\n",
       "      <td>349</td>\n",
       "      <td>178</td>\n",
       "      <td>170</td>\n",
       "      <td>23</td>\n",
       "    </tr>\n",
       "    <tr>\n",
       "      <th>2</th>\n",
       "      <td>76</td>\n",
       "      <td>277</td>\n",
       "      <td>322</td>\n",
       "      <td>7</td>\n",
       "      <td>174</td>\n",
       "      <td>48</td>\n",
       "      <td>99</td>\n",
       "      <td>226</td>\n",
       "      <td>358</td>\n",
       "      <td>6</td>\n",
       "      <td>...</td>\n",
       "      <td>174</td>\n",
       "      <td>4</td>\n",
       "      <td>10</td>\n",
       "      <td>351</td>\n",
       "      <td>53</td>\n",
       "      <td>171</td>\n",
       "      <td>317</td>\n",
       "      <td>149</td>\n",
       "      <td>64</td>\n",
       "      <td>22</td>\n",
       "    </tr>\n",
       "    <tr>\n",
       "      <th>3</th>\n",
       "      <td>94</td>\n",
       "      <td>209</td>\n",
       "      <td>133</td>\n",
       "      <td>154</td>\n",
       "      <td>115</td>\n",
       "      <td>342</td>\n",
       "      <td>283</td>\n",
       "      <td>313</td>\n",
       "      <td>197</td>\n",
       "      <td>132</td>\n",
       "      <td>...</td>\n",
       "      <td>221</td>\n",
       "      <td>299</td>\n",
       "      <td>342</td>\n",
       "      <td>338</td>\n",
       "      <td>359</td>\n",
       "      <td>56</td>\n",
       "      <td>183</td>\n",
       "      <td>181</td>\n",
       "      <td>188</td>\n",
       "      <td>22</td>\n",
       "    </tr>\n",
       "    <tr>\n",
       "      <th>4</th>\n",
       "      <td>16</td>\n",
       "      <td>81</td>\n",
       "      <td>211</td>\n",
       "      <td>32</td>\n",
       "      <td>160</td>\n",
       "      <td>101</td>\n",
       "      <td>140</td>\n",
       "      <td>53</td>\n",
       "      <td>265</td>\n",
       "      <td>291</td>\n",
       "      <td>...</td>\n",
       "      <td>164</td>\n",
       "      <td>74</td>\n",
       "      <td>246</td>\n",
       "      <td>4</td>\n",
       "      <td>295</td>\n",
       "      <td>99</td>\n",
       "      <td>170</td>\n",
       "      <td>270</td>\n",
       "      <td>208</td>\n",
       "      <td>23</td>\n",
       "    </tr>\n",
       "  </tbody>\n",
       "</table>\n",
       "<p>5 rows × 24 columns</p>\n",
       "</div>"
      ],
      "text/plain": [
       "     0    1    2    3    4    5    6    7    8    9  ...   14   15   16   17  \\\n",
       "0  229  135  155  361   94  283  276  209   52   82  ...  266  235  240  199   \n",
       "1  131  318  140  274  105  167  289  306  257  362  ...  162  207  205  278   \n",
       "2   76  277  322    7  174   48   99  226  358    6  ...  174    4   10  351   \n",
       "3   94  209  133  154  115  342  283  313  197  132  ...  221  299  342  338   \n",
       "4   16   81  211   32  160  101  140   53  265  291  ...  164   74  246    4   \n",
       "\n",
       "    18   19   20   21   22  n_unique  \n",
       "0  199  126  187  137  154        22  \n",
       "1  136  210  349  178  170        23  \n",
       "2   53  171  317  149   64        22  \n",
       "3  359   56  183  181  188        22  \n",
       "4  295   99  170  270  208        23  \n",
       "\n",
       "[5 rows x 24 columns]"
      ]
     },
     "execution_count": 88,
     "metadata": {},
     "output_type": "execute_result"
    }
   ],
   "source": [
    "df[\"n_unique\"] = df.nunique(axis=1)\n",
    "df.head()"
   ]
  },
  {
   "cell_type": "code",
   "execution_count": 91,
   "metadata": {},
   "outputs": [
    {
     "data": {
      "text/plain": [
       "0.50704"
      ]
     },
     "execution_count": 91,
     "metadata": {},
     "output_type": "execute_result"
    }
   ],
   "source": [
    "# If n_unique == 0 then nobody shares a birthday\n",
    "(df.n_unique != 23).mean()"
   ]
  },
  {
   "cell_type": "code",
   "execution_count": 96,
   "metadata": {},
   "outputs": [
    {
     "data": {
      "text/plain": [
       "0.41095"
      ]
     },
     "execution_count": 96,
     "metadata": {},
     "output_type": "execute_result"
    }
   ],
   "source": [
    "# What about 20 people in the room?\n",
    "# What is probability that two people share a birthday\n",
    "n_trials = nrows = 100_000\n",
    "nbdays = ncols = 20\n",
    "\n",
    "birthdays = np.random.choice(range(365), size = (n_trials,nbdays))\n",
    "df = pd.DataFrame(birthdays)\n",
    "df[\"n_unique\"] = df.nunique(axis=1)\n",
    "(df.n_unique != 20).mean()"
   ]
  },
  {
   "cell_type": "code",
   "execution_count": 97,
   "metadata": {},
   "outputs": [
    {
     "data": {
      "text/plain": [
       "0.89163"
      ]
     },
     "execution_count": 97,
     "metadata": {},
     "output_type": "execute_result"
    }
   ],
   "source": [
    "# What about 40 people in the room?\n",
    "# What is probability that two people share a birthday\n",
    "n_trials = nrows = 100_000\n",
    "nbdays = ncols = 40\n",
    "\n",
    "birthdays = np.random.choice(range(365), size = (n_trials,nbdays))\n",
    "df = pd.DataFrame(birthdays)\n",
    "df[\"n_unique\"] = df.nunique(axis=1)\n",
    "(df.n_unique != 40).mean()"
   ]
  },
  {
   "cell_type": "code",
   "execution_count": null,
   "metadata": {},
   "outputs": [],
   "source": []
  }
 ],
 "metadata": {
  "kernelspec": {
   "display_name": "Python 3",
   "language": "python",
   "name": "python3"
  },
  "language_info": {
   "codemirror_mode": {
    "name": "ipython",
    "version": 3
   },
   "file_extension": ".py",
   "mimetype": "text/x-python",
   "name": "python",
   "nbconvert_exporter": "python",
   "pygments_lexer": "ipython3",
   "version": "3.7.6"
  }
 },
 "nbformat": 4,
 "nbformat_minor": 4
}
