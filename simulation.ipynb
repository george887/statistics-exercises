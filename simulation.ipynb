{
 "cells": [
  {
   "cell_type": "code",
   "execution_count": 1,
   "metadata": {},
   "outputs": [],
   "source": [
    "import numpy as np\n",
    "import pandas as pd"
   ]
  },
  {
   "cell_type": "code",
   "execution_count": 45,
   "metadata": {},
   "outputs": [
    {
     "data": {
      "text/plain": [
       "array([[4, 1],\n",
       "       [3, 4],\n",
       "       [6, 2],\n",
       "       ...,\n",
       "       [2, 5],\n",
       "       [6, 3],\n",
       "       [2, 6]])"
      ]
     },
     "execution_count": 45,
     "metadata": {},
     "output_type": "execute_result"
    }
   ],
   "source": [
    "# How likely is it that you roll doubles when rolling two dice?\n",
    "n_trials = n_rows = 1000\n",
    "n_dice = n_cols = 2\n",
    "rolls = np.random.choice([1,2,3,4,5,6], n_rows * n_cols).reshape(n_rows,n_cols)\n",
    "rolls"
   ]
  },
  {
   "cell_type": "code",
   "execution_count": 46,
   "metadata": {},
   "outputs": [
    {
     "data": {
      "text/plain": [
       "array([ 5,  7,  8,  9,  8,  7,  8,  6, 11,  2,  8, 10,  6,  5,  8,  4,  3,\n",
       "        6,  7,  8, 11,  8,  5,  8,  6,  6,  9,  7,  9,  7,  7,  6, 12,  5,\n",
       "        2,  7,  6,  5,  6,  9,  6,  7,  4,  6,  7, 11,  8,  2,  8,  2,  7,\n",
       "        8,  4,  8, 10,  7, 11,  8,  8,  6,  5,  6,  5,  5,  7,  8, 10, 11,\n",
       "        4,  9, 10,  2,  6,  6, 10,  4,  2,  7,  5,  7,  8, 11,  8,  7,  5,\n",
       "        6,  8,  5,  9,  9,  7,  7,  6,  9, 10,  3,  7,  8, 10,  9,  7,  8,\n",
       "       10,  6,  7,  7,  5,  7, 12, 11,  9,  7,  4,  7,  7,  7,  4,  3,  7,\n",
       "        5,  3,  8, 12,  7,  9,  9,  9,  8, 11,  7, 11, 11,  9,  6,  9,  7,\n",
       "        4,  4,  2,  5,  8,  7,  6,  9,  6,  9,  7, 12,  5,  7,  8,  7,  8,\n",
       "        5,  9,  7,  8,  9,  4, 11,  6,  4,  4, 12,  6, 11,  8,  8,  5, 12,\n",
       "        8,  8,  3,  9,  6,  7,  7,  3,  4,  3,  7,  2,  9, 10,  8,  9,  3,\n",
       "        8,  8,  5,  9, 11,  4,  5,  6,  6,  6,  3,  9, 12, 10, 11, 11,  9,\n",
       "        6,  8,  5,  7, 11,  4,  3,  8,  6,  6,  9,  8,  6,  9,  4,  5,  4,\n",
       "        6,  4,  8,  5,  6,  9,  9, 11,  3, 10,  9,  5,  6, 11,  9,  3,  3,\n",
       "        6,  7, 12,  6,  9,  5,  4,  9,  8,  7,  7, 12,  7,  6,  4,  8,  8,\n",
       "        3,  5,  7,  9,  7, 10,  8,  9,  9, 10,  9,  6,  8,  6,  8,  9,  7,\n",
       "        2,  8,  6,  4, 10,  3,  7,  6,  8, 10,  8,  4,  7,  5, 12,  3, 10,\n",
       "        6,  6,  4,  9,  4,  3,  5,  2,  8,  3, 10,  4,  7,  5, 12,  4, 12,\n",
       "       11,  6,  9,  2,  2,  6, 11,  3,  8,  4, 10,  6, 10,  6,  7,  8,  9,\n",
       "       10, 10,  9,  6,  8,  9,  7,  6, 11,  5,  9,  4,  6,  9,  7,  6,  4,\n",
       "        7,  7, 10,  4,  6,  6,  6,  5,  8,  6,  5,  8,  3,  8,  5,  4,  6,\n",
       "        5,  7,  9,  2,  7,  5,  7,  8,  4,  7,  7,  3,  8,  9,  8,  7,  7,\n",
       "        5,  9, 10,  7, 11,  3,  7,  2,  8,  6,  6,  4,  5,  7,  7,  4, 12,\n",
       "       12,  8,  6,  9,  5,  7,  6,  5, 10,  7,  7,  7,  7,  4, 10,  7,  8,\n",
       "        7,  7,  8, 11,  8,  6,  8,  9,  7,  8,  8,  4,  9, 10,  7,  9,  5,\n",
       "        6,  6, 12,  2,  9,  3,  8, 12, 10,  6, 10,  5,  8,  8,  7,  5,  9,\n",
       "       11,  5,  4,  7,  2, 10,  4,  9,  8,  5,  7,  3,  6, 11,  8,  6, 11,\n",
       "        7,  8,  5,  9,  8, 10,  6,  6,  8,  7,  5,  6,  2,  5, 11,  7,  7,\n",
       "        4,  4,  8,  6, 10,  6,  6,  7,  6,  5, 10, 10,  9,  5,  7,  5, 11,\n",
       "        7,  4,  4,  6,  8,  8,  5,  7,  5,  3,  3,  9,  7, 10, 12,  8,  5,\n",
       "       10, 11,  4,  9,  7,  9,  6, 11,  6,  3,  7,  3, 10,  7,  8,  3,  7,\n",
       "       11,  7,  4,  4,  9,  4,  4,  4,  7,  6,  9,  7,  7,  3,  9,  9,  5,\n",
       "        6,  7,  8,  5,  4,  8,  3,  7,  6,  3,  6,  8, 11,  7,  4,  8,  9,\n",
       "        8,  9,  5,  8,  8, 11,  5,  6, 12,  9,  6,  8, 12,  3,  5, 10,  4,\n",
       "       11,  5,  2, 10,  4,  5,  7,  5,  8,  8,  5,  7,  6,  8, 10,  6,  5,\n",
       "        8,  9,  5,  5,  8, 10, 10,  9,  6,  7, 10,  7,  8,  7,  5,  3,  4,\n",
       "        2,  9, 11,  6,  2,  8,  8,  3,  8,  9,  6,  4,  9,  9,  6,  2,  6,\n",
       "        9, 11, 10, 10,  4,  8,  7,  8,  5,  8,  7, 10,  3,  6,  7,  4,  4,\n",
       "        7,  4,  6,  7,  4,  6,  4, 12,  3,  7,  7, 10,  6,  7,  5,  8,  4,\n",
       "        3,  4,  8,  7,  5, 12, 12,  9,  8,  6,  2,  7,  4,  6, 10,  4,  8,\n",
       "        8,  5,  6,  5,  4, 12,  6, 10,  8,  6,  8, 10,  6, 12,  8, 10, 11,\n",
       "        6,  7,  9,  4,  6,  7,  6,  8, 10,  7, 12,  8,  8, 12,  4, 11,  7,\n",
       "        8,  8,  5,  7,  6, 10, 12, 11,  8,  9,  5,  8,  5,  7,  6,  5,  5,\n",
       "        8,  7, 10, 10,  3, 10,  7,  6,  8,  7,  9,  7, 10,  9,  7,  7,  6,\n",
       "        5,  8, 10,  5, 10,  9,  8,  6,  7,  8,  7,  5,  8, 11,  6,  7,  7,\n",
       "        7,  7,  2,  4, 10, 12,  9,  8,  8,  2,  7,  7, 11, 11, 11,  4,  8,\n",
       "        6, 11,  6,  8,  2,  7,  6,  3,  5, 12,  5,  6, 11,  8,  9,  5,  8,\n",
       "        6,  6,  6,  6,  9,  7,  8, 10,  4,  6,  5,  5,  9, 12,  9, 12,  4,\n",
       "        7,  9,  7,  5,  4,  2,  4, 11,  4,  7,  6, 10,  5,  8,  8,  5,  8,\n",
       "        5,  8,  8, 10, 10,  6,  6,  7, 12,  3, 11,  3,  8,  7,  5,  4,  6,\n",
       "       10,  7,  8,  3,  6,  9,  6, 11,  6,  4,  6,  4,  4,  9,  3,  7,  9,\n",
       "        7,  7,  8,  9,  5,  4,  8,  7,  6,  7, 11,  9,  6, 10,  7,  6,  6,\n",
       "        4,  4,  8,  4, 10,  8,  8, 10,  9,  9,  5, 10,  5, 10,  5,  6,  8,\n",
       "        8,  7,  6, 10,  3,  4, 12,  6,  8,  2,  7,  3,  7,  9,  8, 11,  7,\n",
       "        5,  8,  2,  7,  7,  6, 11, 11,  2, 10,  5,  8,  4,  9,  3, 12,  6,\n",
       "        9,  6,  7,  6,  9,  6,  8,  6, 11,  4,  7,  9,  8,  9, 10,  5,  6,\n",
       "        6,  9, 10,  7,  8,  7, 10, 11,  9, 10,  8,  7,  5,  6,  9,  6,  7,\n",
       "        8,  7,  7,  7,  6, 10,  7,  7, 10,  7,  8,  8,  5,  9, 11,  7,  7,\n",
       "        7,  7,  8, 10,  6,  8,  5,  9,  9, 12,  9,  7,  9,  8])"
      ]
     },
     "execution_count": 46,
     "metadata": {},
     "output_type": "execute_result"
    }
   ],
   "source": [
    "sum_by_trial = rolls.sum(axis=1)\n",
    "sum_by_trial"
   ]
  },
  {
   "cell_type": "code",
   "execution_count": 47,
   "metadata": {},
   "outputs": [
    {
     "data": {
      "text/plain": [
       "0.17"
      ]
     },
     "execution_count": 47,
     "metadata": {},
     "output_type": "execute_result"
    }
   ],
   "source": [
    "doubles = [rolls[x][0] == rolls[x][1] for x in range(0,n_rows)]\n",
    "pd.Series(doubles).mean()"
   ]
  },
  {
   "cell_type": "code",
   "execution_count": 20,
   "metadata": {},
   "outputs": [
    {
     "data": {
      "text/plain": [
       "array([[0, 1, 0, ..., 1, 1, 1],\n",
       "       [0, 1, 1, ..., 0, 0, 1],\n",
       "       [1, 1, 0, ..., 1, 0, 0],\n",
       "       ...,\n",
       "       [0, 1, 0, ..., 0, 0, 0],\n",
       "       [0, 0, 1, ..., 0, 0, 1],\n",
       "       [1, 1, 0, ..., 0, 0, 0]])"
      ]
     },
     "execution_count": 20,
     "metadata": {},
     "output_type": "execute_result"
    }
   ],
   "source": [
    "#If you flip 8 coins, what is the probability of getting exactly 3 heads? What is the probability of \n",
    "# getting more than 3 heads?\n",
    "n_trials = nrows = 10000\n",
    "n_coins = ncols = 8\n",
    "\n",
    "flips = np.random.choice([0,1], n_trials * n_coins).reshape(nrows, ncols)\n",
    "flips"
   ]
  },
  {
   "cell_type": "code",
   "execution_count": 21,
   "metadata": {},
   "outputs": [
    {
     "data": {
      "text/plain": [
       "array([4, 3, 5, ..., 3, 3, 3])"
      ]
     },
     "execution_count": 21,
     "metadata": {},
     "output_type": "execute_result"
    }
   ],
   "source": [
    "sum_by_trials = flips.sum(axis=1)\n",
    "sum_by_trials"
   ]
  },
  {
   "cell_type": "code",
   "execution_count": 10,
   "metadata": {},
   "outputs": [
    {
     "data": {
      "text/plain": [
       "array([ True, False, False, ..., False, False, False])"
      ]
     },
     "execution_count": 10,
     "metadata": {},
     "output_type": "execute_result"
    }
   ],
   "source": [
    "three_heads = sum_by_trials == 3\n",
    "three_heads"
   ]
  },
  {
   "cell_type": "code",
   "execution_count": 11,
   "metadata": {},
   "outputs": [
    {
     "data": {
      "text/plain": [
       "0.2191"
      ]
     },
     "execution_count": 11,
     "metadata": {},
     "output_type": "execute_result"
    }
   ],
   "source": [
    "exactly_3_heads = three_heads.astype(int).mean()\n",
    "exactly_3_heads"
   ]
  },
  {
   "cell_type": "code",
   "execution_count": 12,
   "metadata": {},
   "outputs": [
    {
     "data": {
      "text/plain": [
       "array([False,  True,  True, ...,  True,  True,  True])"
      ]
     },
     "execution_count": 12,
     "metadata": {},
     "output_type": "execute_result"
    }
   ],
   "source": [
    "more_than_3 = sum_by_trials > 3\n",
    "more_than_3"
   ]
  },
  {
   "cell_type": "code",
   "execution_count": 13,
   "metadata": {},
   "outputs": [
    {
     "data": {
      "text/plain": [
       "0.6418"
      ]
     },
     "execution_count": 13,
     "metadata": {},
     "output_type": "execute_result"
    }
   ],
   "source": [
    "more_than_3_heads = more_than_3.astype(int).mean()\n",
    "more_than_3_heads"
   ]
  },
  {
   "cell_type": "code",
   "execution_count": 22,
   "metadata": {},
   "outputs": [
    {
     "data": {
      "text/plain": [
       "array([['Tails', 'Tails', 'Heads', ..., 'Tails', 'Heads', 'Heads'],\n",
       "       ['Heads', 'Tails', 'Tails', ..., 'Tails', 'Tails', 'Tails'],\n",
       "       ['Heads', 'Tails', 'Tails', ..., 'Tails', 'Heads', 'Tails'],\n",
       "       ...,\n",
       "       ['Heads', 'Tails', 'Tails', ..., 'Heads', 'Tails', 'Tails'],\n",
       "       ['Heads', 'Heads', 'Tails', ..., 'Tails', 'Heads', 'Tails'],\n",
       "       ['Tails', 'Heads', 'Tails', ..., 'Heads', 'Tails', 'Heads']],\n",
       "      dtype='<U5')"
      ]
     },
     "execution_count": 22,
     "metadata": {},
     "output_type": "execute_result"
    }
   ],
   "source": [
    "flips = np.random.choice([\"Heads\",\"Tails\"], n_trials * n_coins).reshape(nrows, ncols)\n",
    "flips"
   ]
  },
  {
   "cell_type": "code",
   "execution_count": 23,
   "metadata": {},
   "outputs": [
    {
     "data": {
      "text/plain": [
       "0.2304"
      ]
     },
     "execution_count": 23,
     "metadata": {},
     "output_type": "execute_result"
    }
   ],
   "source": [
    "#Using list comprehension to answer\n",
    "head_bools = [((flips[x] == \"Heads\").sum() == 3) for x in range(0, nrows)]\n",
    "pd.Series(head_bools).mean()"
   ]
  },
  {
   "cell_type": "code",
   "execution_count": 76,
   "metadata": {},
   "outputs": [
    {
     "data": {
      "text/plain": [
       "array([['Webdev', 'DS'],\n",
       "       ['Webdev', 'DS'],\n",
       "       ['DS', 'Webdev'],\n",
       "       ...,\n",
       "       ['Webdev', 'Webdev'],\n",
       "       ['Webdev', 'Webdev'],\n",
       "       ['Webdev', 'Webdev']], dtype='<U6')"
      ]
     },
     "execution_count": 76,
     "metadata": {},
     "output_type": "execute_result"
    }
   ],
   "source": [
    "#3 There are approximitely 3 web development cohorts for every 1 data science cohort at Codeup. Assuming that\n",
    "# Codeup randomly selects an alumni to put on a billboard, what are the odds that the two billboards I drive\n",
    "# past both have data science students on them?\n",
    "\n",
    "n_trials = nrows = 10000\n",
    "#web_dev = 3\n",
    "#DS = 1\n",
    "billboards = ncols = 2\n",
    "probabilities = [.25,.75]\n",
    "\n",
    "on_bb = np.random.choice([\"DS\",\"Webdev\"], n_trials * ncols, p = probabilities).reshape(nrows, ncols)\n",
    "on_bb"
   ]
  },
  {
   "cell_type": "code",
   "execution_count": 77,
   "metadata": {},
   "outputs": [],
   "source": [
    "bb_df = pd.DataFrame(on_bb)"
   ]
  },
  {
   "cell_type": "code",
   "execution_count": 78,
   "metadata": {},
   "outputs": [
    {
     "data": {
      "text/plain": [
       "0       False\n",
       "1       False\n",
       "2       False\n",
       "3       False\n",
       "4       False\n",
       "        ...  \n",
       "9995    False\n",
       "9996     True\n",
       "9997    False\n",
       "9998    False\n",
       "9999    False\n",
       "Length: 10000, dtype: bool"
      ]
     },
     "execution_count": 78,
     "metadata": {},
     "output_type": "execute_result"
    }
   ],
   "source": [
    "bb_df.apply(lambda row: row[0] == row[1] == \"DS\", axis = 1)"
   ]
  },
  {
   "cell_type": "code",
   "execution_count": 79,
   "metadata": {},
   "outputs": [
    {
     "data": {
      "text/plain": [
       "0.0644"
      ]
     },
     "execution_count": 79,
     "metadata": {},
     "output_type": "execute_result"
    }
   ],
   "source": [
    "bb_df.apply(lambda row: row[0] == row[1] == \"DS\", axis = 1).mean()"
   ]
  },
  {
   "cell_type": "code",
   "execution_count": 26,
   "metadata": {},
   "outputs": [
    {
     "data": {
      "text/plain": [
       "array([[2.88376834, 3.8051995 , 1.82642904, 3.74236039],\n",
       "       [1.96277626, 2.14391606, 2.33034504, 5.75931126],\n",
       "       [2.51717214, 3.78919526, 2.50660762, 3.47467129],\n",
       "       ...,\n",
       "       [4.21982331, 0.57882895, 0.59511092, 1.92323592],\n",
       "       [3.26343848, 2.49751953, 0.24605862, 2.82840711],\n",
       "       [3.38899036, 1.81275181, 3.32135556, 4.36189962]])"
      ]
     },
     "execution_count": 26,
     "metadata": {},
     "output_type": "execute_result"
    }
   ],
   "source": [
    "#4 Codeup students buy, on average, 3 poptart packages (+- 1.5) a day from the snack vending machine. \n",
    "# If on monday the machine is restocked with 17 poptart packages, how likely is it that I will be able \n",
    "# to buy some poptarts on Friday afternoon?\n",
    "#normal(loc=0.0, scale=1.0, size=None)\n",
    "n_trials = nrow = 10_000\n",
    "n_days = ncol = 4\n",
    "loc = poptarts_bought = 3\n",
    "scale = std = +-1.5\n",
    "#normal(loc, scale, size=(nrow,ncol))\n",
    "poptarts = np.random.normal(3,1.5,(nrow,ncol))\n",
    "poptarts"
   ]
  },
  {
   "cell_type": "code",
   "execution_count": 27,
   "metadata": {},
   "outputs": [
    {
     "data": {
      "text/plain": [
       "0.9149"
      ]
     },
     "execution_count": 27,
     "metadata": {},
     "output_type": "execute_result"
    }
   ],
   "source": [
    "(poptarts.sum(axis=1) <=16).mean()"
   ]
  },
  {
   "cell_type": "code",
   "execution_count": 29,
   "metadata": {},
   "outputs": [
    {
     "data": {
      "text/plain": [
       "array([179.6754008 , 168.83839013, 177.91594859, ..., 175.16631358,\n",
       "       178.82538838, 164.15337962])"
      ]
     },
     "execution_count": 29,
     "metadata": {},
     "output_type": "execute_result"
    }
   ],
   "source": [
    "#5 Compare Heights -- Men have an average height of 178 cm and standard deviation of 8cm.\n",
    "# Women have a mean of 170, sd = 6cm.\n",
    "# If a man and woman are chosen at random, P(woman taller than man)?\n",
    "\n",
    "size = n_trials = nrows = 10_000\n",
    "loc = avg_height = 178\n",
    "scale = std = 8\n",
    "#normal(loc=0.0, scale=1.0, size=None)\n",
    "men = np.random.normal(loc,scale,size)\n",
    "men"
   ]
  },
  {
   "cell_type": "code",
   "execution_count": 31,
   "metadata": {},
   "outputs": [
    {
     "data": {
      "text/plain": [
       "array([167.36498943, 164.85914162, 167.61926212, ..., 167.67732008,\n",
       "       169.99729068, 164.42181735])"
      ]
     },
     "execution_count": 31,
     "metadata": {},
     "output_type": "execute_result"
    }
   ],
   "source": [
    "size = n_trials = nrows = 10_000\n",
    "loc = avg_height = 170\n",
    "scale = std = 6\n",
    "women = np.random.normal(loc,scale,size)\n",
    "women"
   ]
  },
  {
   "cell_type": "code",
   "execution_count": 32,
   "metadata": {},
   "outputs": [
    {
     "data": {
      "text/plain": [
       "0.2114"
      ]
     },
     "execution_count": 32,
     "metadata": {},
     "output_type": "execute_result"
    }
   ],
   "source": [
    "(women > men).mean()"
   ]
  },
  {
   "cell_type": "code",
   "execution_count": 33,
   "metadata": {},
   "outputs": [],
   "source": [
    "np.random.normal?"
   ]
  },
  {
   "cell_type": "code",
   "execution_count": null,
   "metadata": {},
   "outputs": [],
   "source": []
  }
 ],
 "metadata": {
  "kernelspec": {
   "display_name": "Python 3",
   "language": "python",
   "name": "python3"
  },
  "language_info": {
   "codemirror_mode": {
    "name": "ipython",
    "version": 3
   },
   "file_extension": ".py",
   "mimetype": "text/x-python",
   "name": "python",
   "nbconvert_exporter": "python",
   "pygments_lexer": "ipython3",
   "version": "3.7.6"
  }
 },
 "nbformat": 4,
 "nbformat_minor": 4
}
